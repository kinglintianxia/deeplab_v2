{
 "cells": [
  {
   "cell_type": "markdown",
   "metadata": {},
   "source": [
    "## 1.使用scipy读取文件，保存为dict格式"
   ]
  },
  {
   "cell_type": "code",
   "execution_count": 2,
   "metadata": {
    "collapsed": true
   },
   "outputs": [],
   "source": [
    "import numpy as np\n",
    "import matplotlib.pyplot as plt\n",
    "import scipy.io as sio\n",
    "import h5py\n",
    "f=sio.loadmat(\"./pascal_context/features/deeplab_largeFOV/val/fc8/2007_000033_blob_0.mat\")"
   ]
  },
  {
   "cell_type": "markdown",
   "metadata": {},
   "source": [
    "## 2.使用dict的keys关键字，查看字典中的key"
   ]
  },
  {
   "cell_type": "code",
   "execution_count": 45,
   "metadata": {},
   "outputs": [
    {
     "data": {
      "text/plain": [
       "['LabelMap', '__version__', '__header__', '__globals__']"
      ]
     },
     "execution_count": 45,
     "metadata": {},
     "output_type": "execute_result"
    }
   ],
   "source": [
    "t=sio.loadmat(\"/home/dl/DL_dataset/VOCdevkit/trainval/2008_000023.mat\")\n",
    "t.keys()"
   ]
  },
  {
   "cell_type": "code",
   "execution_count": 3,
   "metadata": {},
   "outputs": [
    {
     "data": {
      "text/plain": [
       "['__version__', 'data', '__header__', '__globals__']"
      ]
     },
     "execution_count": 3,
     "metadata": {},
     "output_type": "execute_result"
    }
   ],
   "source": [
    "import scipy.io as sio\n",
    "import numpy as np\n",
    "test=sio.loadmat(\"/home/dl/deeplab/exper/voc12/features/deeplab_largeFOV/val/fc8/2007_000033.mat\")\n",
    "test.keys()\n"
   ]
  },
  {
   "cell_type": "code",
   "execution_count": 5,
   "metadata": {},
   "outputs": [
    {
     "data": {
      "text/plain": [
       "array([[[[ 8.91384125],\n",
       "         [ 1.3823266 ],\n",
       "         [-0.32057345],\n",
       "         ..., \n",
       "         [ 0.78105485],\n",
       "         [-0.37161291],\n",
       "         [-0.04199338]],\n",
       "\n",
       "        [[ 8.94016552],\n",
       "         [ 1.41513276],\n",
       "         [-0.3097305 ],\n",
       "         ..., \n",
       "         [ 0.78504121],\n",
       "         [-0.35622093],\n",
       "         [-0.03176174]],\n",
       "\n",
       "        [[ 8.96648979],\n",
       "         [ 1.44793904],\n",
       "         [-0.29888755],\n",
       "         ..., \n",
       "         [ 0.78902751],\n",
       "         [-0.34082896],\n",
       "         [-0.02153009]],\n",
       "\n",
       "        ..., \n",
       "        [[ 7.43813753],\n",
       "         [ 0.06125358],\n",
       "         [-1.14916027],\n",
       "         ..., \n",
       "         [ 1.35218096],\n",
       "         [-0.18225437],\n",
       "         [ 1.52334714]],\n",
       "\n",
       "        [[ 7.45029497],\n",
       "         [ 0.05824194],\n",
       "         [-1.18775678],\n",
       "         ..., \n",
       "         [ 1.36530244],\n",
       "         [-0.2221432 ],\n",
       "         [ 1.54795837]],\n",
       "\n",
       "        [[ 7.46245289],\n",
       "         [ 0.05523029],\n",
       "         [-1.22635329],\n",
       "         ..., \n",
       "         [ 1.37842393],\n",
       "         [-0.26203203],\n",
       "         [ 1.57256961]]],\n",
       "\n",
       "\n",
       "       [[[ 8.9234314 ],\n",
       "         [ 1.38217068],\n",
       "         [-0.31871715],\n",
       "         ..., \n",
       "         [ 0.78806388],\n",
       "         [-0.36657128],\n",
       "         [-0.04765262]],\n",
       "\n",
       "        [[ 8.94991684],\n",
       "         [ 1.41518247],\n",
       "         [-0.30766159],\n",
       "         ..., \n",
       "         [ 0.79141116],\n",
       "         [-0.35104182],\n",
       "         [-0.03715125]],\n",
       "\n",
       "        [[ 8.97640228],\n",
       "         [ 1.44819438],\n",
       "         [-0.29660603],\n",
       "         ..., \n",
       "         [ 0.79475844],\n",
       "         [-0.3355124 ],\n",
       "         [-0.02664989]],\n",
       "\n",
       "        ..., \n",
       "        [[ 7.40180016],\n",
       "         [ 0.07613266],\n",
       "         [-1.12707055],\n",
       "         ..., \n",
       "         [ 1.34359682],\n",
       "         [-0.16667186],\n",
       "         [ 1.4956485 ]],\n",
       "\n",
       "        [[ 7.41400957],\n",
       "         [ 0.07405037],\n",
       "         [-1.16464138],\n",
       "         ..., \n",
       "         [ 1.35555935],\n",
       "         [-0.2051492 ],\n",
       "         [ 1.52060175]],\n",
       "\n",
       "        [[ 7.42621899],\n",
       "         [ 0.07196809],\n",
       "         [-1.20221221],\n",
       "         ..., \n",
       "         [ 1.36752176],\n",
       "         [-0.24362655],\n",
       "         [ 1.545555  ]]],\n",
       "\n",
       "\n",
       "       [[[ 8.9330225 ],\n",
       "         [ 1.38201487],\n",
       "         [-0.31686085],\n",
       "         ..., \n",
       "         [ 0.79507297],\n",
       "         [-0.36152965],\n",
       "         [-0.05331185]],\n",
       "\n",
       "        [[ 8.95966911],\n",
       "         [ 1.4152323 ],\n",
       "         [-0.30559272],\n",
       "         ..., \n",
       "         [ 0.79778117],\n",
       "         [-0.34586275],\n",
       "         [-0.04254077]],\n",
       "\n",
       "        [[ 8.98631477],\n",
       "         [ 1.44844973],\n",
       "         [-0.29432455],\n",
       "         ..., \n",
       "         [ 0.80048937],\n",
       "         [-0.33019581],\n",
       "         [-0.03176969]],\n",
       "\n",
       "        ..., \n",
       "        [[ 7.36546421],\n",
       "         [ 0.09101173],\n",
       "         [-1.10498095],\n",
       "         ..., \n",
       "         [ 1.33501267],\n",
       "         [-0.15108934],\n",
       "         [ 1.46794987]],\n",
       "\n",
       "        [[ 7.37772465],\n",
       "         [ 0.08985882],\n",
       "         [-1.14152598],\n",
       "         ..., \n",
       "         [ 1.34581602],\n",
       "         [-0.1881552 ],\n",
       "         [ 1.49324512]],\n",
       "\n",
       "        [[ 7.38998508],\n",
       "         [ 0.0887059 ],\n",
       "         [-1.17807102],\n",
       "         ..., \n",
       "         [ 1.35661948],\n",
       "         [-0.22522107],\n",
       "         [ 1.51854038]]],\n",
       "\n",
       "\n",
       "       ..., \n",
       "       [[[ 8.30411911],\n",
       "         [ 1.12645459],\n",
       "         [-1.37936461],\n",
       "         ..., \n",
       "         [ 0.135711  ],\n",
       "         [ 0.65620011],\n",
       "         [ 2.42010951]],\n",
       "\n",
       "        [[ 8.29532909],\n",
       "         [ 1.12747049],\n",
       "         [-1.38180709],\n",
       "         ..., \n",
       "         [ 0.12408188],\n",
       "         [ 0.66541392],\n",
       "         [ 2.44043159]],\n",
       "\n",
       "        [[ 8.28653908],\n",
       "         [ 1.12848639],\n",
       "         [-1.38424969],\n",
       "         ..., \n",
       "         [ 0.11245276],\n",
       "         [ 0.67462778],\n",
       "         [ 2.46075392]],\n",
       "\n",
       "        ..., \n",
       "        [[ 6.99892902],\n",
       "         [-1.07713509],\n",
       "         [-1.94047928],\n",
       "         ..., \n",
       "         [ 2.86829352],\n",
       "         [-1.74740458],\n",
       "         [ 1.39230633]],\n",
       "\n",
       "        [[ 7.01716805],\n",
       "         [-1.07156694],\n",
       "         [-1.9460367 ],\n",
       "         ..., \n",
       "         [ 2.85312414],\n",
       "         [-1.7542336 ],\n",
       "         [ 1.3887639 ]],\n",
       "\n",
       "        [[ 7.03540707],\n",
       "         [-1.06599867],\n",
       "         [-1.95159411],\n",
       "         ..., \n",
       "         [ 2.837955  ],\n",
       "         [-1.76106274],\n",
       "         [ 1.38522148]]],\n",
       "\n",
       "\n",
       "       [[[ 8.29134464],\n",
       "         [ 1.14344442],\n",
       "         [-1.37503695],\n",
       "         ..., \n",
       "         [ 0.13523564],\n",
       "         [ 0.65910006],\n",
       "         [ 2.40658975]],\n",
       "\n",
       "        [[ 8.28259182],\n",
       "         [ 1.14422977],\n",
       "         [-1.37732315],\n",
       "         ..., \n",
       "         [ 0.12345587],\n",
       "         [ 0.6680426 ],\n",
       "         [ 2.4262414 ]],\n",
       "\n",
       "        [[ 8.27383804],\n",
       "         [ 1.14501512],\n",
       "         [-1.37960947],\n",
       "         ..., \n",
       "         [ 0.1116761 ],\n",
       "         [ 0.67698514],\n",
       "         [ 2.44589329]],\n",
       "\n",
       "        ..., \n",
       "        [[ 7.0197897 ],\n",
       "         [-1.0820049 ],\n",
       "         [-1.94536638],\n",
       "         ..., \n",
       "         [ 2.87202024],\n",
       "         [-1.75621307],\n",
       "         [ 1.39777422]],\n",
       "\n",
       "        [[ 7.03800106],\n",
       "         [-1.07642651],\n",
       "         [-1.95101964],\n",
       "         ..., \n",
       "         [ 2.85683036],\n",
       "         [-1.76322591],\n",
       "         [ 1.39404082]],\n",
       "\n",
       "        [[ 7.0562129 ],\n",
       "         [-1.07084811],\n",
       "         [-1.95667291],\n",
       "         ..., \n",
       "         [ 2.84164047],\n",
       "         [-1.77023864],\n",
       "         [ 1.39030755]]],\n",
       "\n",
       "\n",
       "       [[[ 8.27857018],\n",
       "         [ 1.16043437],\n",
       "         [-1.3707093 ],\n",
       "         ..., \n",
       "         [ 0.13476026],\n",
       "         [ 0.66199994],\n",
       "         [ 2.39306998]],\n",
       "\n",
       "        [[ 8.26985359],\n",
       "         [ 1.16098917],\n",
       "         [-1.37283921],\n",
       "         ..., \n",
       "         [ 0.12282984],\n",
       "         [ 0.67067116],\n",
       "         [ 2.4120512 ]],\n",
       "\n",
       "        [[ 8.26113701],\n",
       "         [ 1.16154397],\n",
       "         [-1.37496924],\n",
       "         ..., \n",
       "         [ 0.11089942],\n",
       "         [ 0.67934245],\n",
       "         [ 2.43103266]],\n",
       "\n",
       "        ..., \n",
       "        [[ 7.04064941],\n",
       "         [-1.08687472],\n",
       "         [-1.95025325],\n",
       "         ..., \n",
       "         [ 2.87574697],\n",
       "         [-1.7650218 ],\n",
       "         [ 1.40324199]],\n",
       "\n",
       "        [[ 7.05883408],\n",
       "         [-1.08128619],\n",
       "         [-1.95600247],\n",
       "         ..., \n",
       "         [ 2.86053634],\n",
       "         [-1.77221823],\n",
       "         [ 1.39931774]],\n",
       "\n",
       "        [[ 7.07701874],\n",
       "         [-1.07569766],\n",
       "         [-1.96175182],\n",
       "         ..., \n",
       "         [ 2.84532571],\n",
       "         [-1.77941453],\n",
       "         [ 1.39539361]]]], dtype=float32)"
      ]
     },
     "execution_count": 5,
     "metadata": {},
     "output_type": "execute_result"
    }
   ],
   "source": [
    "text1=test['data']\n",
    "text1"
   ]
  },
  {
   "cell_type": "markdown",
   "metadata": {},
   "source": [
    "## 3.使用plot显示mat文件，单通道的文件使用plt可以显示成彩色"
   ]
  },
  {
   "cell_type": "code",
   "execution_count": 46,
   "metadata": {
    "scrolled": true
   },
   "outputs": [
    {
     "data": {
      "image/png": "[encoded data removed]",
      "text/plain": [
       "<matplotlib.figure.Figure at 0x7f3efcf0c710>"
      ]
     },
     "metadata": {},
     "output_type": "display_data"
    }
   ],
   "source": [
    "plt.imshow(np.array(t['LabelMap']))\n",
    "plt.axis('off') # 不显示坐标轴\n",
    "plt.show()"
   ]
  },
  {
   "cell_type": "markdown",
   "metadata": {},
   "source": [
    "## 4.读取一个图片的mat文件，并保存成彩色"
   ]
  },
  {
   "cell_type": "code",
   "execution_count": 64,
   "metadata": {
    "collapsed": true
   },
   "outputs": [],
   "source": [
    "import os\n",
    "import scipy.io as sio\n",
    "import numpy as np\n",
    "import PIL.Image as Image\n",
    "from matplotlib import pyplot  \n",
    "\n",
    "mat_file=sio.loadmat(\"/home/dl/DL_dataset/VOCdevkit/trainval/2008_000023.mat\")\n",
    "mat_file=np.array(mat_file['LabelMap'])\n",
    "labels_path=\"/home/dl/DL_dataset\"\n",
    "dst_path=os.path.join(labels_path,'2008_0000230'+'.png')\n",
    "\n",
    "\n",
    "#pyplot.imsave(dst_path,mat_file)  \n",
    "mat_file=mat_file.astype(np.uint8)\n",
    "label_img=Image.fromarray(mat_file.reshape(mat_file.shape[0],mat_file.shape[1]))\n",
    "label_img.save(dst_path)"
   ]
  },
  {
   "cell_type": "code",
   "execution_count": null,
   "metadata": {
    "collapsed": true
   },
   "outputs": [],
   "source": [
    "\n",
    "path='/home/dl/DL_dataset/VOCdevkit/trainval'\n",
    "files=os.listdir(path)\n",
    "labels_path=os.path.join(path,'label2')\n",
    "mat_idx=afile[:afile.find('.mat')]\n",
    "mat_file=sio(file_path)\n",
    "for afile in files:\n",
    "    file_path=os.path.join(path,afile)\n",
    "    if os.path.isfile(file_path):\n",
    "        if os.path.getsize(file_path)==0:\n",
    "            continue\n",
    "        mat_idx=afile[:afile.find('.mat')]\n",
    "        mat_file=sio(file_path)\n",
    "        mat_file=np.array(mat_file['LabelMap'])\n",
    "       # print mat_file.keys()\n",
    "        mat_file=mat_file*255\n",
    "        mat_file=mat_file.astype(np.uint8)\n",
    "        #print type(mat_file)\n",
    "        #print mat_file.shape()\n",
    "        label_img=Image.fromarray(mat_file.reshape(mat_file.shape[0],mat_file.shape[1]))\n",
    "        #label_img.putpalette(palette)\n",
    "        #label_img=label_img.transpose(Image.FLIP_LEFT_RIGHT)\n",
    "#       label_img.show()\n",
    "        dst_path=os.path.join(labels_path,mat_idx+'.png')\n",
    "        label_img.save(dst_path)\n"
   ]
  },
  {
   "cell_type": "markdown",
   "metadata": {},
   "source": [
    "## 读取文件夹中的文件名，制作train.txt文件"
   ]
  },
  {
   "cell_type": "code",
   "execution_count": 2,
   "metadata": {},
   "outputs": [
    {
     "name": "stdout",
     "output_type": "stream",
     "text": [
      "finished!\n"
     ]
    }
   ],
   "source": [
    "import os\n",
    "path='/home/dl/DL_dataset/VOCdevkit/trainval'\n",
    "files=os.listdir(path)\n",
    "f=open(\"/home/dl/DL_dataset/VOCdevkit/train_aug.txt\",\"w\")\n",
    "#labels_path=os.path.join(path,'label2')\n",
    "#mat_file=sio(file_path)\n",
    "for afile in files:\n",
    "    file_path=os.path.join(path,afile)\n",
    "    if os.path.isfile(file_path):\n",
    "        if os.path.getsize(file_path)==0:\n",
    "            continue\n",
    "        #print \"read it!\"\n",
    "        mat_idx=afile[:afile.find('.mat')]\n",
    "        f.write(\"/JPEGImages/\"+mat_idx+\".jpg \")\n",
    "        f.write(\"/PASCALContexts/\"+mat_idx+\".png\"+\"\\n\")\n",
    "        #dst_path=os.path.join(labels_path,mat_idx+'.png')\n",
    "        #label_img.save(dst_path)\n",
    "f.close()\n",
    "print \"finished!\""
   ]
  },
  {
   "cell_type": "code",
   "execution_count": 43,
   "metadata": {},
   "outputs": [
    {
     "data": {
      "image/png": "[encoded data removed]",
      "text/plain": [
       "<matplotlib.figure.Figure at 0x7f3efcfc5550>"
      ]
     },
     "metadata": {},
     "output_type": "display_data"
    }
   ],
   "source": [
    "plt.imshow(np.array(t['LabelMap']))\n",
    "plt.axis('off') # 不显示坐标轴\n",
    "plt.show()"
   ]
  },
  {
   "cell_type": "code",
   "execution_count": 41,
   "metadata": {},
   "outputs": [
    {
     "data": {
      "image/png": "[encoded data removed]",
      "text/plain": [
       "<matplotlib.figure.Figure at 0x7f3efd1b1dd0>"
      ]
     },
     "metadata": {},
     "output_type": "display_data"
    }
   ],
   "source": [
    "plt.imshow(np.array(t['LabelMap']))\n",
    "plt.axis('off') # 不显示坐标轴\n",
    "plt.show()"
   ]
  },
  {
   "cell_type": "code",
   "execution_count": 39,
   "metadata": {},
   "outputs": [
    {
     "data": {
      "image/png": "[encoded data removed]",
      "text/plain": [
       "<matplotlib.figure.Figure at 0x7f3efd2bde50>"
      ]
     },
     "metadata": {},
     "output_type": "display_data"
    }
   ],
   "source": [
    "plt.imshow(np.array(t['LabelMap']))\n",
    "plt.axis('off') # 不显示坐标轴\n",
    "plt.show()"
   ]
  },
  {
   "cell_type": "code",
   "execution_count": 38,
   "metadata": {},
   "outputs": [
    {
     "data": {
      "image/png": "[encoded data removed]",
      "text/plain": [
       "<matplotlib.figure.Figure at 0x7f3efd2b9dd0>"
      ]
     },
     "metadata": {},
     "output_type": "display_data"
    }
   ],
   "source": [
    "plt.imshow(np.array(t['LabelMap']))\n",
    "plt.axis('off') # 不显示坐标轴\n",
    "plt.show()"
   ]
  },
  {
   "cell_type": "code",
   "execution_count": 34,
   "metadata": {},
   "outputs": [
    {
     "data": {
      "image/png": "[encoded data removed]",
      "text/plain": [
       "<matplotlib.figure.Figure at 0x7f3efd149250>"
      ]
     },
     "metadata": {},
     "output_type": "display_data"
    }
   ],
   "source": [
    "plt.imshow(np.array(t['LabelMap']))\n",
    "plt.axis('off') # 不显示坐标轴\n",
    "plt.show()"
   ]
  },
  {
   "cell_type": "code",
   "execution_count": 27,
   "metadata": {},
   "outputs": [
    {
     "data": {
      "image/png": "[encoded data removed]",
      "text/plain": [
       "<matplotlib.figure.Figure at 0x7f3efd39d4d0>"
      ]
     },
     "metadata": {},
     "output_type": "display_data"
    }
   ],
   "source": [
    "plt.imshow(np.array(t['LabelMap']))\n",
    "plt.axis('off') # 不显示坐标轴\n",
    "plt.show()"
   ]
  },
  {
   "cell_type": "code",
   "execution_count": 30,
   "metadata": {},
   "outputs": [
    {
     "data": {
      "image/png": "[encoded data removed]",
      "text/plain": [
       "<matplotlib.figure.Figure at 0x7f3efd182710>"
      ]
     },
     "metadata": {},
     "output_type": "display_data"
    }
   ],
   "source": [
    "plt.imshow(np.array(t['LabelMap']))\n",
    "plt.axis('off') # 不显示坐标轴\n",
    "plt.show()"
   ]
  },
  {
   "cell_type": "code",
   "execution_count": 16,
   "metadata": {},
   "outputs": [
    {
     "data": {
      "image/png": "[encoded data removed]",
      "text/plain": [
       "<matplotlib.figure.Figure at 0x7f3f39636750>"
      ]
     },
     "metadata": {},
     "output_type": "display_data"
    }
   ],
   "source": [
    "\n",
    "plt.imshow(np.array(t['LabelMap']))\n",
    "plt.axis('off') # 不显示坐标轴\n",
    "plt.show()"
   ]
  }
 ],
 "metadata": {
  "kernelspec": {
   "display_name": "Python 2",
   "language": "python",
   "name": "python2"
  },
  "language_info": {
   "codemirror_mode": {
    "name": "ipython",
    "version": 2
   },
   "file_extension": ".py",
   "mimetype": "text/x-python",
   "name": "python",
   "nbconvert_exporter": "python",
   "pygments_lexer": "ipython2",
   "version": "2.7.6"
  }
 },
 "nbformat": 4,
 "nbformat_minor": 2
}
